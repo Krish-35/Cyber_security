{
 "cells": [
  {
   "cell_type": "markdown",
   "id": "3ecae615",
   "metadata": {},
   "source": [
    "# Compare and contrast different types of social engineering techniques. \n"
   ]
  },
  {
   "cell_type": "markdown",
   "id": "c75ffb4d",
   "metadata": {},
   "source": [
    "What is Social Engineering?\n",
    "\n",
    "Social engineering is manipulating people into revealing information, granting access, or performing actions that compromise security.\n",
    "\n",
    "Instead of exploiting technical vulnerabilities, attackers exploit human psychology."
   ]
  },
  {
   "cell_type": "markdown",
   "id": "bb0ac7f5",
   "metadata": {},
   "source": [
    "## 1.Phishing"
   ]
  },
  {
   "cell_type": "markdown",
   "id": "4c4264b7",
   "metadata": {},
   "source": [
    "Phishing (Base Concept)\n",
    "\n",
    "Definition: A fraudulent attempt to trick individuals into giving up sensitive information (e.g., passwords, banking info, credit card numbers).\n",
    "\n",
    "Method: Usually via email, SMS, or malicious websites disguised as legitimate ones.\n",
    "\n",
    "Target: General users (broad attack, not specific).\n",
    "\n",
    "Example: An email pretending to be from a bank, asking you to “verify your account” by clicking a fake link.\n",
    "\n",
    "### summary:\n",
    "Phishing is the umbrella technique that tricks users into revealing sensitive info, while its variants (spear phishing, whaling, smishing, vishing, pharming, etc.) are specialized methods that differ by delivery channel, target, or sophistication level."
   ]
  },
  {
   "cell_type": "markdown",
   "id": "67237b07",
   "metadata": {},
   "source": [
    "## 2.Smishing"
   ]
  },
  {
   "cell_type": "markdown",
   "id": "e3d0ce26",
   "metadata": {},
   "source": [
    "### Definition\n",
    "\n",
    "Smishing = SMS + Phishing\n",
    "\n",
    "It is a type of phishing attack where the attacker uses SMS (Short Message Service) or text messaging apps instead of email to trick the victim.\n",
    "\n",
    "The goal is the same as phishing: to steal personal information, credentials, or financial data, or to install malware on the device."
   ]
  },
  {
   "cell_type": "markdown",
   "id": "82402d7f",
   "metadata": {},
   "source": [
    "### How it Works\n",
    "\n",
    "Message Delivery:\n",
    " Victim receives a text message appearing to come from a trusted entity (bank, delivery service, government, etc.).\n",
    "\n",
    "Urgency or Fear:\n",
    " Message often creates a sense of urgency — “Your bank account is locked!” or “Click here to track your parcel.”\n",
    "\n",
    "Malicious Link or Number:\n",
    " The message contains a link to a fake website or a number to call.\n",
    "\n",
    "Data Theft or Malware:\n",
    " Victim enters login/financial info or downloads malware unknowingly."
   ]
  },
  {
   "cell_type": "markdown",
   "id": "f619f56c",
   "metadata": {},
   "source": [
    "### Examples\n",
    "\n",
    "Banking Scam:\n",
    "“Your account has been temporarily locked. Please click this link to verify your details.”\n",
    "\n",
    "Delivery Scam:\n",
    "“FedEx: Your package is waiting. Pay customs fee here: [fake link].”\n",
    "\n",
    "Government Scam:\n",
    "“You are eligible for a tax refund. Submit details at: [fake URL].”"
   ]
  },
  {
   "cell_type": "markdown",
   "id": "3f562c12",
   "metadata": {},
   "source": [
    "### Why Smishing Works (Psychological Tricks)\n",
    "\n",
    "Authority: Pretends to come from trusted organizations.\n",
    "\n",
    "Urgency: Pushes quick action (“immediate response required”).\n",
    "\n",
    "Fear/Anxiety: Threatens account lockouts or penalties.\n",
    "\n",
    "Curiosity/Reward: Promises refunds, gifts, or special offers."
   ]
  },
  {
   "cell_type": "markdown",
   "id": "28a640b2",
   "metadata": {},
   "source": [
    "### Comparison with Other Social Engineering\n",
    "\n",
    "Phishing: Done via email, broader in scope.\n",
    "\n",
    "Smishing: Done via text messages (harder to filter than emails).\n",
    "\n",
    "Vishing: Done via voice/phone calls.\n",
    "\n",
    "Whaling: Targets high-level executives, usually via email."
   ]
  },
  {
   "cell_type": "markdown",
   "id": "98744508",
   "metadata": {},
   "source": [
    "### How to Defend Against Smishing\n",
    "\n",
    "Do not click on suspicious links in text messages.\n",
    "\n",
    "Verify the sender by contacting the organization directly (using official numbers).\n",
    "\n",
    "Use mobile security apps and enable SMS filtering if available.\n",
    "\n",
    "Educate employees/users about smishing attempts.\n",
    "\n",
    "Report suspicious messages to the telecom provider or security team."
   ]
  },
  {
   "cell_type": "markdown",
   "id": "131550fe",
   "metadata": {},
   "source": [
    "## Summary:\n",
    "Smishing is a targeted form of phishing via SMS. It exploits trust and urgency to steal personal or financial information. Unlike email phishing, it reaches the victim directly on their mobile phone, making it more personal and dangerous."
   ]
  },
  {
   "cell_type": "markdown",
   "id": "c7f18f8b",
   "metadata": {},
   "source": []
  }
 ],
 "metadata": {
  "language_info": {
   "name": "python"
  }
 },
 "nbformat": 4,
 "nbformat_minor": 5
}
