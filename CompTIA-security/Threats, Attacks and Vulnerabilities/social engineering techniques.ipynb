{
 "cells": [
  {
   "cell_type": "markdown",
   "id": "3ecae615",
   "metadata": {},
   "source": [
    "# Compare and contrast different types of social engineering techniques. \n"
   ]
  },
  {
   "cell_type": "markdown",
   "id": "c75ffb4d",
   "metadata": {},
   "source": [
    "What is Social Engineering?\n",
    "\n",
    "Social engineering is manipulating people into revealing information, granting access, or performing actions that compromise security.\n",
    "\n",
    "Instead of exploiting technical vulnerabilities, attackers exploit human psychology."
   ]
  },
  {
   "cell_type": "markdown",
   "id": "bb0ac7f5",
   "metadata": {},
   "source": [
    "## 1.Phishing"
   ]
  },
  {
   "cell_type": "markdown",
   "id": "4c4264b7",
   "metadata": {},
   "source": [
    "### Definition:\n",
    " A fraudulent attempt to trick individuals into giving up sensitive information (e.g., passwords, banking info, credit card numbers).\n",
    "\n",
    "* Method: Usually via email, SMS, or malicious websites disguised as legitimate ones.\n",
    "* Target: General users (broad attack, not specific).\n",
    "\n",
    "Example: An email pretending to be from a bank, asking you to “verify your account” by clicking a fake link.\n",
    "\n",
    "### summary:\n",
    "Phishing is the umbrella technique that tricks users into revealing sensitive info, while its variants (spear phishing, whaling, smishing, vishing, pharming, etc.) are specialized methods that differ by delivery channel, target, or sophistication level."
   ]
  },
  {
   "cell_type": "markdown",
   "id": "67237b07",
   "metadata": {},
   "source": [
    "## 2.Smishing"
   ]
  },
  {
   "cell_type": "markdown",
   "id": "e3d0ce26",
   "metadata": {},
   "source": [
    "### Definition\n",
    "\n",
    "Smishing = SMS + Phishing\n",
    "\n",
    "It is a type of phishing attack where the attacker uses SMS (Short Message Service) or text messaging apps instead of email to trick the victim.\n",
    "\n",
    "The goal is the same as phishing: to steal personal information, credentials, or financial data, or to install malware on the device."
   ]
  },
  {
   "cell_type": "markdown",
   "id": "82402d7f",
   "metadata": {},
   "source": [
    "### How it Works\n",
    "\n",
    "* Message Delivery:\n",
    " Victim receives a text message appearing to come from a trusted entity (bank, delivery service, government, etc.).\n",
    "* Urgency or Fear:\n",
    " Message often creates a sense of urgency — “Your bank account is locked!” or “Click here to track your parcel.”\n",
    "* Malicious Link or Number:\n",
    " The message contains a link to a fake website or a number to call.\n",
    "* Data Theft or Malware:\n",
    " Victim enters login/financial info or downloads malware unknowingly."
   ]
  },
  {
   "cell_type": "markdown",
   "id": "f619f56c",
   "metadata": {},
   "source": [
    "### Examples\n",
    "\n",
    "* Banking Scam:\n",
    "“Your account has been temporarily locked. Please click this link to verify your details.”\n",
    "* Delivery Scam:\n",
    "“FedEx: Your package is waiting. Pay customs fee here: [fake link].”\n",
    "* Government Scam:\n",
    "“You are eligible for a tax refund. Submit details at: [fake URL].”"
   ]
  },
  {
   "cell_type": "markdown",
   "id": "3f562c12",
   "metadata": {},
   "source": [
    "### Why Smishing Works (Psychological Tricks)\n",
    "\n",
    "* Authority: Pretends to come from trusted organizations.\n",
    "* Urgency: Pushes quick action (“immediate response required”).\n",
    "* Fear/Anxiety: Threatens account lockouts or penalties.\n",
    "* Curiosity/Reward: Promises refunds, gifts, or special offers."
   ]
  },
  {
   "cell_type": "markdown",
   "id": "28a640b2",
   "metadata": {},
   "source": [
    "### Comparison with Other Social Engineering\n",
    "\n",
    "* Phishing: Done via email, broader in scope.\n",
    "* Smishing: Done via text messages (harder to filter than emails).\n",
    "* Vishing: Done via voice/phone calls.\n",
    "* Whaling: Targets high-level executives, usually via email."
   ]
  },
  {
   "cell_type": "markdown",
   "id": "98744508",
   "metadata": {},
   "source": [
    "### How to Defend Against Smishing\n",
    "\n",
    "* Do not click on suspicious links in text messages.\n",
    "\n",
    "* Verify the sender by contacting the organization directly (using official numbers).\n",
    "\n",
    "* Use mobile security apps and enable SMS filtering if available.\n",
    "\n",
    "* Educate employees/users about smishing attempts.\n",
    "\n",
    "* Report suspicious messages to the telecom provider or security team."
   ]
  },
  {
   "cell_type": "markdown",
   "id": "131550fe",
   "metadata": {},
   "source": [
    "## Summary:\n",
    "Smishing is a targeted form of phishing via SMS. It exploits trust and urgency to steal personal or financial information. Unlike email phishing, it reaches the victim directly on their mobile phone, making it more personal and dangerous."
   ]
  },
  {
   "cell_type": "markdown",
   "id": "c7f18f8b",
   "metadata": {},
   "source": [
    "## 3.Vishing"
   ]
  },
  {
   "cell_type": "markdown",
   "id": "66a1bff1",
   "metadata": {},
   "source": [
    "### Definition\n",
    "\n",
    "Vishing = Voice + Phishing\n",
    "\n",
    "It is a social engineering attack carried out through phone calls or VoIP (Voice over IP).\n",
    "\n",
    "The attacker pretends to be a trusted authority (bank, government agency, tech support, HR, etc.) and manipulates the victim into sharing sensitive information (PINs, OTPs, passwords, financial details).\n",
    "\n",
    "### How it Works\n",
    "\n",
    "* Caller Spoofing: Attackers often spoof caller ID so the call looks like it’s from a trusted source (bank helpline, police, etc.).\n",
    "Pretexting: They create a believable story (“We detected fraud on your account”).\n",
    "* Urgency & Fear: They pressure the victim into acting quickly (“Confirm your card PIN immediately or your account will be frozen”).\n",
    "* Data Collection: The victim provides sensitive info or follows malicious instructions.\n",
    "\n",
    "### Examples\n",
    "\n",
    "* Banking Vishing:\n",
    "Caller pretends to be from a bank’s fraud department and asks for card details to “verify suspicious activity.”\n",
    "* Tech Support Scam:\n",
    "Caller claims to be Microsoft/Apple support, saying “Your computer is infected. Please install this software.” (actually malware).\n",
    "* IRS/Tax Scam:\n",
    "Caller threatens legal action unless immediate payment is made through gift cards or wire transfer.\n",
    "\n",
    "### Comparison: Vishing vs Other Techniques\n",
    "\n",
    "* Vishing vs. Phishing (Email): Vishing uses voice calls, phishing uses emails.\n",
    "* Vishing vs. Smishing: Vishing = calls, Smishing = SMS texts.\n",
    "* Vishing vs. Whaling: Whaling targets executives via emails, Vishing targets anyone via calls.\n",
    "* Vishing vs. Impersonation: Vishing is remote (phone/VoIP), impersonation is in person.\n",
    "\n",
    "### Defense Against Vishing\n",
    "\n",
    "* Do not trust caller ID (it can be spoofed).\n",
    "\n",
    "* Never share sensitive information (PINs, OTPs, passwords) over the phone.\n",
    "\n",
    "* Hang up and call back using the official number from the bank/organization’s website.\n",
    "\n",
    "* Awareness training for employees and individuals.\n",
    "\n",
    "* Use call-blocking apps/services to filter known scam numbers.\n",
    "\n",
    "### Summary:\n",
    "Vishing is a voice-based phishing attack where attackers exploit trust in human conversation. It is harder to detect than email scams because it relies on real-time persuasion. Awareness and verification are the best defenses."
   ]
  },
  {
   "cell_type": "markdown",
   "id": "6f321ff6",
   "metadata": {},
   "source": [
    "# 4.Spam"
   ]
  },
  {
   "cell_type": "markdown",
   "id": "e5b19294",
   "metadata": {},
   "source": [
    "### Definition\n",
    "\n",
    "Spam refers to unsolicited, unwanted bulk messages, typically sent via email, but also through instant messaging, social media, or forums.\n",
    "\n",
    "These messages are usually commercial in nature (advertising products/services), but attackers also use spam to deliver phishing links or malware.\n",
    "\n",
    "### Characteristics\n",
    "\n",
    "* Mass Distribution: Sent to thousands or millions of recipients.\n",
    "* Unsolicited: Recipients never asked for these messages.\n",
    "* Low Cost, High Volume: Attackers use bots and compromised servers to send massive amounts cheaply.\n",
    "* Often Automated: Spam is usually generated by spamming software or botnets.\n",
    "\n",
    "### Types of Spam\n",
    "\n",
    "* Advertising Spam: Unwanted promotions for products, fake offers, miracle cures, gambling, etc.\n",
    "\n",
    "* Phishing Spam: Emails pretending to be from legitimate institutions to steal credentials.\n",
    "\n",
    "* Malware Spam (Malspam): Spam emails containing infected attachments or malicious links.\n",
    "\n",
    "* Instant Messaging Spam (SPIM): Spam through instant messengers (WhatsApp, Teams, Slack, etc.).\n",
    "\n",
    "* Comment Spam: Fake comments on blogs/forums with malicious links.\n",
    "\n",
    "### Examples\n",
    "\n",
    "* Email subject: “Congratulations! You won a lottery – claim now!”\n",
    "\n",
    "* Message: “Update your PayPal account immediately at [malicious link].”\n",
    "\n",
    "* Social Media DM: “Get followers fast, click here.”\n",
    "\n",
    "### Why Spam Works (Psychological Tricks)\n",
    "\n",
    "* Curiosity: “You’ve won something!”\n",
    "\n",
    "* Greed: “Get rich quick” schemes.\n",
    "\n",
    "* Fear/Urgency: “Your account will be deactivated” warnings.\n",
    "\n",
    "* Deception: Fake branded templates that look like real services.\n",
    "\n",
    "### Risks of Spam\n",
    "\n",
    "* Wasted Resources: Network/storage overload.\n",
    "\n",
    "* Phishing Attacks: Trick users into giving up data.\n",
    "\n",
    "* Malware Delivery: Attachments may contain trojans, ransomware, or spyware.\n",
    "\n",
    "* Business Risks: Lost productivity, potential data breaches.\n",
    "\n",
    "### Defenses Against Spam\n",
    "\n",
    "* Spam Filters & Email Security Gateways – block suspicious emails.\n",
    "\n",
    "* Blocklists/Allowlists – manage senders.\n",
    "\n",
    "* User Awareness – don’t click links or open unknown attachments.\n",
    "\n",
    "* Email Authentication Protocols – SPF, DKIM, DMARC to detect spoofed messages.\n",
    "\n",
    "* Report Spam – to email provider or IT security team.\n",
    "\n",
    "### Comparison with Other Techniques\n",
    "\n",
    "Spam vs. Phishing:\n",
    "\n",
    "* Spam = bulk, unsolicited messages (not always malicious).\n",
    "* Phishing = targeted messages designed to steal info (can use spam as a delivery method).\n",
    "\n",
    "Spam vs. Smishing/Vishing:\n",
    "\n",
    "* Spam = bulk email/messages.\n",
    "* Smishing = SMS phishing.\n",
    "* Vishing = voice calls.\n",
    "\n",
    "Spam vs. SPIM:\n",
    "\n",
    "* Spam = via email.\n",
    "* SPIM = spam over instant messaging platforms.\n",
    "\n",
    "\n",
    "### Summary:\n",
    "Spam is the flood of unsolicited bulk messages, often annoying and sometimes dangerous. While not always a direct attack, it is frequently used as a delivery vehicle for phishing, scams, and malware. Security awareness and strong filtering are key defenses.\n"
   ]
  },
  {
   "cell_type": "markdown",
   "id": "74adf0e0",
   "metadata": {},
   "source": [
    "# 5. SPIM (Spam over Internet Messaging)"
   ]
  },
  {
   "cell_type": "markdown",
   "id": "9b47da4a",
   "metadata": {},
   "source": [
    "### Definition\n",
    "\n",
    "* SPIM = Spam over Instant Messaging.\n",
    "\n",
    "* It is similar to email spam but delivered through instant messaging (IM) platforms like WhatsApp, Facebook Messenger, Teams, Slack, Telegram, Skype, or even gaming chat apps.\n",
    "\n",
    "* Attackers exploit the real-time, trusted nature of instant messaging to trick victims.\n",
    "\n",
    "### How SPIM Works\n",
    "\n",
    "* Unsolicited Message Sent: Victim receives a random message on a messaging app.\n",
    "\n",
    "* Content Tricks Victim: Message may include fake offers, malicious links, or attachments.\n",
    "\n",
    "* Malware/Phishing: Clicking leads to credential theft, malware downloads, or fake login portals.\n",
    "\n",
    "* Botnet/Account Hijacking: Compromised accounts are used to spread more SPIM automatically.\n",
    "\n",
    "### Examples\n",
    "\n",
    "* “Click here to claim your free gift card: [malicious link]”\n",
    "* “URGENT: Your account will be disabled! Verify now: [fake login site]”\n",
    "* “Check out this funny video 😂 [infected attachment]”\n",
    "\n",
    "\n",
    "### Why SPIM is Dangerous\n",
    "\n",
    "* More Trusted Channel: People trust messages from IM more than email.\n",
    "\n",
    "* High Open Rate: Users usually open IM messages immediately.\n",
    "\n",
    "* Bypasses Email Filters: Traditional spam filters can’t block it.\n",
    "\n",
    "* Fast Spread: One infected account can spam all its contacts instantly.\n",
    "\n",
    "### Comparison with Spam\n",
    "| **Spam (Email)**                   | **SPIM (Internet Messaging)**                                   |\n",
    "| ------------------------------------------- | ----------------------------------------------- |\n",
    "| Delivered via email                         | Delivered via instant messaging apps            |\n",
    "| Easier to filter (spam filters, DMARC, SPF) | Harder to filter, often bypasses email defenses |\n",
    "| Slower victim response                      | Faster victim response (real-time alerts)       |\n",
    "| Commonly flagged in business networks       | Often ignored until major spread occurs         |\n",
    "\n",
    "### Risks of SPIM\n",
    "\n",
    "* Phishing: Steals usernames, passwords, or banking info.\n",
    "* Malware Delivery: Links or attachments install spyware, ransomware, RATs.\n",
    "* Credential Harvesting: Fake login forms.\n",
    "* Account Hijacking: Attackers use compromised IM accounts to attack more users.\n",
    "* Business Risks: Especially dangerous in corporate IM apps like Teams or Slack.\n",
    "\n",
    "### Defenses Against SPIM\n",
    "\n",
    "* Awareness Training: Users should not click unknown IM links.\n",
    "\n",
    "* Strong Authentication: MFA reduces account hijack risk.\n",
    "\n",
    "* Security Policies: Restrict IM use for business unless monitored.\n",
    "\n",
    "* Endpoint Protection: Detect malware from malicious IM attachments.\n",
    "\n",
    "* Blocking Unknown Contacts: Configure privacy settings to restrict who can message.\n",
    "\n",
    "### Summary:\n",
    "SPIM is spam through instant messaging platforms. It’s more dangerous than regular spam because IM feels more personal and urgent, leading to higher victim engagement. It’s used to spread phishing links, malware, and scams, often through compromised accounts or botnets.\n"
   ]
  },
  {
   "cell_type": "markdown",
   "id": "38834a4e",
   "metadata": {},
   "source": []
  }
 ],
 "metadata": {
  "language_info": {
   "name": "python"
  }
 },
 "nbformat": 4,
 "nbformat_minor": 5
}
