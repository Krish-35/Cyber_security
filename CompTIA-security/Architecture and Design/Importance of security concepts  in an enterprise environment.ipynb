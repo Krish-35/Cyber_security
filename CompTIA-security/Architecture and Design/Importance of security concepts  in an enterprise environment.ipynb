{
 "cells": [
  {
   "cell_type": "markdown",
   "id": "a972e224",
   "metadata": {},
   "source": [
    "#  Importance of security concepts in an enterprise environment"
   ]
  },
  {
   "cell_type": "markdown",
   "id": "fbf11592",
   "metadata": {},
   "source": []
  }
 ],
 "metadata": {
  "language_info": {
   "name": "python"
  }
 },
 "nbformat": 4,
 "nbformat_minor": 5
}
